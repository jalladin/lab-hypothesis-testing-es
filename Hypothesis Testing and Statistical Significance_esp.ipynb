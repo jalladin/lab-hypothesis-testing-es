{
 "cells": [
  {
   "cell_type": "markdown",
   "metadata": {},
   "source": [
    "# Pruebas de Hipótesis y Significación Estadística\n",
    "\n",
    "## Objetivos de la Lección\n",
    "\n",
    "En esta lección aprenderemos los fundamentos de las pruebas de hipótesis y la significación estadística.\n",
    "\n",
    "## Introducción\n",
    "\n",
    "Muchas veces en el mundo real nos gustaría resolver una pregunta que requiere la comparación de dos cantidades. Por ejemplo, ¿dejar la luz encendida causa que las personas tarden más en dormirse, o los libros con más páginas venden más copias? Usando algunas suposiciones básicas, podemos usar la inferencia estadística para llegar a una conclusión y determinar una respuesta para estas preguntas. Las hipótesis nos permiten comparar dos muestras y, usando ciertas suposiciones, podemos rechazar o no rechazar nuestra hipótesis (como verdaderos estadísticos nunca decimos que aceptamos una hipótesis, solo rechazar o no rechazar).\n",
    "\n",
    "## Conceptos Clave\n",
    "\n",
    "### Población\n",
    "\n",
    "La población incluye todos los elementos en un conjunto de datos. Por ejemplo, la población de todos los estudiantes de una cierta universidad incluye a todos los estudiantes matriculados en esa universidad.\n",
    "\n",
    "### Muestra\n",
    "\n",
    "Una muestra es un subconjunto de la población. Por ejemplo, una muestra de estudiantes universitarios de una cierta universidad puede ser un grupo seleccionado aleatoriamente de estudiantes que están matriculados en la universidad.\n",
    "\n",
    "### Hipótesis Nula\n",
    "\n",
    "Una hipótesis nula es lo que consideramos el estado actual de las cosas. Estamos tratando de refutar esta hipótesis nula. Por ejemplo, una hipótesis nula podría ser que todos los estudiantes matriculados en una universidad tienen un promedio de calificaciones similar. Denotamos la hipótesis nula como H0.\n",
    "\n",
    "La notación típica para una hipótesis nula sería: H0: μ ≤ 85\n",
    "\n",
    "Donde μ es la media y nuestra suposición inicial es que es menor o igual a 85.\n",
    "\n",
    "### Hipótesis Alternativa\n",
    "\n",
    "Una hipótesis alternativa es una hipótesis rival a la hipótesis nula. Comparamos esta hipótesis con la hipótesis nula para decidir si rechazamos o no la hipótesis nula.\n",
    "\n",
    "Denotamos la hipótesis alternativa con H1 o Ha.\n",
    "\n",
    "La notación típica para una hipótesis alternativa es H1: μ > 85.\n",
    "\n",
    "Nos gustaría probar que μ es de hecho menos de 85.\n",
    "\n",
    "### Tipos de Hipótesis\n",
    "\n",
    "Hay 3 tipos de hipótesis:\n",
    "\n",
    "- H0: μ ≤ k\n",
    "- H1: μ > k\n",
    "- H0: μ ≥ k\n",
    "- H1: μ < k\n",
    "- H0: μ = k\n",
    "- H1: μ ≠ k\n",
    "\n",
    "Los primeros dos tipos son pruebas de hipótesis unilaterales mientras que el tercero es bilateral. Una prueba de hipótesis unilateral solo mira si el estadístico de prueba tiene un valor positivo o negativo muy grande. Una prueba bilateral mira ambos. En el caso bilateral, rechazaremos la hipótesis nula en el caso de que el estadístico de prueba sea un valor positivo o negativo muy grande.\n",
    "\n",
    "### Suposiciones de la Prueba\n",
    "\n",
    "Para llevar a cabo una prueba de hipótesis necesitamos cumplir ciertas suposiciones:\n",
    "\n",
    "- Nuestras observaciones deben ser independientes entre sí. Por ejemplo, si tenemos personas que viven en el mismo hogar participando en un ensayo médico, podrían estar expuestas a las mismas condiciones ambientales o comer la misma comida. Esto puede sesgar nuestros resultados.\n",
    "- Normalidad de los datos - Asumimos que la muestra proviene de datos distribuidos normalmente.\n",
    "- Tamaño de muestra adecuado. Para realizar una prueba usando la distribución normal y no aproximarnos a la distribución t, nuestro tamaño de muestra debe ser mayor de 30.\n",
    "- Para usar la distribución normal para nuestra prueba de hipótesis, debemos asumir que la desviación estándar de la población es conocida. Si la desviación estándar de la población no se conoce, entonces usamos la distribución t para la prueba de hipótesis.\n",
    "\n",
    "### Estadístico de Prueba\n",
    "\n",
    "Una vez que determinamos el tipo de prueba de hipótesis y que nuestras suposiciones se han cumplido, usamos nuestros datos para decidir si rechazar o no rechazar la hipótesis nula."
   ]
  },
  {
   "cell_type": "markdown",
   "metadata": {},
   "source": [
    "Esto significa que nuestro estadístico de prueba es igual a la diferencia entre la media de la muestra y nuestra constante dividida por la desviación estándar sobre la raíz cuadrada del tamaño de la muestra.\n",
    "\n",
    "Comparamos el valor z o t encontrado en la prueba con el límite que determinamos para la prueba usando la significancia que elegimos para la prueba y determinamos el resultado de nuestra prueba.\n",
    "\n",
    "# Significancia de la Prueba\n",
    "\n",
    "Típicamente, cuando realizamos una prueba de hipótesis, no podemos estar 100% seguros del resultado. Sin embargo, podemos determinar el porcentaje de certeza en nuestro resultado. Para un 95% de confianza, miramos un 5% de significancia en nuestra prueba.\n",
    "\n",
    "Tener un 95% de confianza significa que partimos de la hipótesis nula como el status quo. Calculamos nuestro estadístico de prueba dado que pensamos que la hipótesis nula es verdadera. La significancia que producimos del estadístico de prueba es la probabilidad de que obtuvimos nuestro resultado debido al azar. Si hay menos de un 5% de probabilidad de que obtuvimos nuestro resultado debido al azar, entonces esa es una probabilidad muy pequeña de que este resultado sea aleatorio y es más probable que esté ocurriendo debido a algo en el experimento. Entonces podemos rechazar la hipótesis nula.\n",
    "\n",
    "# Intervalos de Confianza\n",
    "\n",
    "Usando el valor crítico que hemos calculado para nuestro estadístico de prueba, podemos construir un intervalo de confianza. Calculamos el intervalo de confianza para una prueba de dos lados:"
   ]
  },
  {
   "cell_type": "markdown",
   "metadata": {},
   "source": [
    "¿Qué significan los intervalos de confianza?\n",
    "\n",
    "Para un intervalo de confianza del 95% significa que si tomamos nuestra población y la muestreamos 100 veces, en 95 de esas cien veces, produciremos un intervalo de confianza que contiene la media verdadera de la población (recuerda que no conocemos la media verdadera de la población, la estamos estimando usando la muestra). Si una gran parte de nuestros intervalos de confianza no contiene lo que nuestra hipótesis afirma que es la media, entonces podemos rechazar la hipótesis nula.\n",
    "\n",
    "## Realizando una Prueba de Hipótesis\n",
    "\n",
    "Explorar un ejemplo más concreto ayudará a integrar estos conceptos. Una compañía farmacéutica está probando un medicamento para reducir el azúcar en la sangre y manejar la diabetes. Se sabe que cualquier nivel de Hemoglobina A1c por debajo del 5.7% se considera normal. La compañía farmacéutica ha tratado a 100 voluntarios del estudio con este medicamento y le gustaría probar que después del tratamiento su media de A1c es inferior al 5.7%.\n",
    "\n",
    "Nuestra hipótesis será:\n",
    "\n",
    "    H0: μ ≥ 5.7\n",
    "    H1: μ < 5.7\n",
    "\n",
    "La compañía farmacéutica informa una media de A1c del 5.1% con una desviación estándar de muestra de 1.6.\n",
    "\n",
    "Nos gustaría usar nuestra muestra para hacer inferencias respecto a la población. Si rechazamos la hipótesis nula, esto podría proporcionarnos alguna evidencia de que los niveles promedio de A1c están dentro del rango normal.\n",
    "\n",
    "Para realizar una prueba de hipótesis, primero verificamos nuestras suposiciones. No sabemos nada sobre la desviación estándar de la población, así que, aunque el tamaño de la muestra es suficientemente grande, utilizaremos la prueba t. Podemos asumir que la compañía farmacéutica utilizó prácticas adecuadas al seleccionar a sus sujetos de estudio de tal manera que evite la dependencia y que también son conscientes de que los datos provienen de una población normalmente distribuida."
   ]
  },
  {
   "cell_type": "markdown",
   "metadata": {},
   "source": [
    "Dado que tenemos 100 sujetos, utilizamos 99 grados de libertad para calcular el estadístico de prueba. El estadístico de prueba para 99 grados de libertad se traduce en un valor p de menos de 0.0005. Esto es menor que 0.05 y, por lo tanto, rechazamos la hipótesis nula. ¡Esto es una excelente noticia para nuestros pacientes!\n",
    "\n",
    "# Pruebas de Hipótesis en Python\n",
    "\n",
    "Podemos usar la biblioteca Scipy para realizar pruebas de hipótesis. Scipy tiene una función para pruebas de hipótesis de una muestra llamada ttest_1samp. Esta prueba toma un conjunto de datos y una constante para comparación y devuelve el estadístico de prueba y el valor p para una prueba de dos lados.\n",
    "\n",
    "Nuestra prueba es de un solo lado, por lo que solo observaremos el estadístico de prueba. Para usar el valor p tenemos que dividir el valor p por 2."
   ]
  },
  {
   "cell_type": "code",
   "execution_count": null,
   "metadata": {},
   "outputs": [],
   "source": [
    "import numpy as np\n",
    "from scipy.stats import ttest_1samp\n",
    "patients = np.random.normal(5.1, 1.6, 100)\n",
    "ttest_1samp(patients, 5.7)"
   ]
  },
  {
   "cell_type": "markdown",
   "metadata": {},
   "source": [
    "En este ejemplo, generamos datos aleatorios con una media de 5.1 y una desviación estándar de 1.6 para simular a nuestros pacientes. Nuestro estadístico de prueba es cercano pero no exactamente igual, ya que la media de la muestra no es exactamente 5.1 como en el ejemplo, sino de hecho:"
   ]
  },
  {
   "cell_type": "code",
   "execution_count": null,
   "metadata": {},
   "outputs": [],
   "source": [
    "np.mean(patients)"
   ]
  },
  {
   "cell_type": "markdown",
   "metadata": {},
   "source": [
    "Esto explica la pequeña discrepancia en el estadístico de prueba. Sin embargo, el resultado es el mismo: rechazamos la hipótesis nula."
   ]
  }
 ],
 "metadata": {
  "kernelspec": {
   "display_name": "Python 3 (ipykernel)",
   "language": "python",
   "name": "python3"
  },
  "language_info": {
   "codemirror_mode": {
    "name": "ipython",
    "version": 3
   },
   "file_extension": ".py",
   "mimetype": "text/x-python",
   "name": "python",
   "nbconvert_exporter": "python",
   "pygments_lexer": "ipython3",
   "version": "3.9.13"
  }
 },
 "nbformat": 4,
 "nbformat_minor": 2
}
